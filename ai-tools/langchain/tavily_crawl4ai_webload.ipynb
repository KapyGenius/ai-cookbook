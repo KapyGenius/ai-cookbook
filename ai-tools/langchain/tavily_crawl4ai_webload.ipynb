{
 "cells": [
  {
   "cell_type": "code",
   "execution_count": 78,
   "id": "5544c80d",
   "metadata": {},
   "outputs": [],
   "source": [
    "from langchain_tavily import TavilySearch\n",
    "from crawl4ai import AsyncWebCrawler, CrawlerRunConfig, CacheMode\n",
    "from docling.document_converter import DocumentConverter\n",
    "from langchain_community.document_loaders import WebBaseLoader"
   ]
  },
  {
   "cell_type": "code",
   "execution_count": 48,
   "id": "c19ec722",
   "metadata": {},
   "outputs": [],
   "source": [
    "tool = TavilySearch(\n",
    "    max_results=3,\n",
    "    # topic=\"general\",\n",
    "    # include_answer=True,\n",
    "    # include_raw_content=True,\n",
    "    # include_images=False,\n",
    "    # include_image_descriptions=False,\n",
    "    # search_depth=\"basic\",\n",
    "    # time_range=\"day\",\n",
    "    include_domains=[\"fh-swf.de\"],\n",
    "    # exclude_domains=None\n",
    ")"
   ]
  },
  {
   "cell_type": "code",
   "execution_count": 18,
   "id": "9a46aff6",
   "metadata": {},
   "outputs": [
    {
     "data": {
      "text/plain": [
       "{'query': 'FH Südwestfalen Masterstudiengänge',\n",
       " 'follow_up_questions': None,\n",
       " 'answer': None,\n",
       " 'images': [],\n",
       " 'results': [{'url': 'https://www.fh-swf.de/de/studienangebot/studiengaenge/master_studiengaenge.php',\n",
       "   'title': 'Master-Studiengänge an der Fachhochschule Südwestfalen',\n",
       "   'content': '24 Studiengänge · Advanced Engineering and Engineering Management M.Sc. · Agrarwirtschaft M.Sc. · Angewandte Informatik M.Sc. (berufsbegleitendes Verbundstudium).',\n",
       "   'score': 0.8302782,\n",
       "   'raw_content': None},\n",
       "  {'url': 'https://www.fh-swf.de/de/studienangebot/studiengaenge/strategisches_management_m_a_/index.php',\n",
       "   'title': 'Strategisches Management M.A. - Fachhochschule Südwestfalen',\n",
       "   'content': 'Der Masterstudiengang Strategisches Management qualifiziert für die Unternehmensführung und vermittelt fundierte Kenntnisse in Marketing und mehr.',\n",
       "   'score': 0.71829855,\n",
       "   'raw_content': None},\n",
       "  {'url': 'https://www.fh-swf.de/de/studienangebot/studiengaenge/maschinenbau_m_eng___berufsbegleitendes_verbundstudium_/index.php',\n",
       "   'title': 'Maschinenbau M.Eng. (berufsbegleitendes Verbundstudium)',\n",
       "   'content': 'Der Masterstudiengang an der Fachhochschule Südwestfalen bietet mir die ideale Möglichkeit, meine beruflichen Ziele mit einer fundierten Weiterbildung zu',\n",
       "   'score': 0.7092009,\n",
       "   'raw_content': None}],\n",
       " 'response_time': 1.38}"
      ]
     },
     "execution_count": 18,
     "metadata": {},
     "output_type": "execute_result"
    }
   ],
   "source": [
    "result = tool.invoke({\"query\": \"FH Südwestfalen Masterstudiengänge\"})\n",
    "result"
   ]
  },
  {
   "cell_type": "code",
   "execution_count": 104,
   "id": "3cc256d0",
   "metadata": {},
   "outputs": [
    {
     "data": {
      "text/html": [
       "<pre style=\"white-space:pre;overflow-x:auto;line-height:normal;font-family:Menlo,'DejaVu Sans Mono',consolas,'Courier New',monospace\"><span style=\"color: #008080; text-decoration-color: #008080; font-weight: bold\">[</span><span style=\"color: #008080; text-decoration-color: #008080\">INIT</span><span style=\"color: #008080; text-decoration-color: #008080; font-weight: bold\">]</span><span style=\"color: #008080; text-decoration-color: #008080\">.... → Crawl4AI </span><span style=\"color: #008080; text-decoration-color: #008080; font-weight: bold\">0.7</span><span style=\"color: #008080; text-decoration-color: #008080\">.</span><span style=\"color: #008080; text-decoration-color: #008080; font-weight: bold\">3</span><span style=\"color: #008080; text-decoration-color: #008080\"> </span>\n",
       "</pre>\n"
      ],
      "text/plain": [
       "\u001b[1;36m[\u001b[0m\u001b[36mINIT\u001b[0m\u001b[1;36m]\u001b[0m\u001b[36m...\u001b[0m\u001b[36m. → Crawl4AI \u001b[0m\u001b[1;36m0.7\u001b[0m\u001b[36m.\u001b[0m\u001b[1;36m3\u001b[0m\u001b[36m \u001b[0m\n"
      ]
     },
     "metadata": {},
     "output_type": "display_data"
    },
    {
     "data": {
      "text/html": [
       "<pre style=\"white-space:pre;overflow-x:auto;line-height:normal;font-family:Menlo,'DejaVu Sans Mono',consolas,'Courier New',monospace\"><span style=\"color: #008000; text-decoration-color: #008000; font-weight: bold\">[</span><span style=\"color: #008000; text-decoration-color: #008000\">FETCH</span><span style=\"color: #008000; text-decoration-color: #008000; font-weight: bold\">]</span><span style=\"color: #008000; text-decoration-color: #008000\">... ↓ </span><span style=\"color: #008000; text-decoration-color: #008000; text-decoration: underline\">https://www.fh-swf.de/de/studienangebot/studiengaenge/master_studiengaenge.php</span><span style=\"color: #008000; text-decoration-color: #008000\">                       |</span>\n",
       "<span style=\"color: #008000; text-decoration-color: #008000\">✓ | ⏱: </span><span style=\"color: #008000; text-decoration-color: #008000; font-weight: bold\">2.</span><span style=\"color: #008000; text-decoration-color: #008000\">61s </span>\n",
       "</pre>\n"
      ],
      "text/plain": [
       "\u001b[1;32m[\u001b[0m\u001b[32mFETCH\u001b[0m\u001b[1;32m]\u001b[0m\u001b[32m...\u001b[0m\u001b[32m ↓ \u001b[0m\u001b[4;32mhttps://www.fh-swf.de/de/studienangebot/studiengaenge/master_studiengaenge.php\u001b[0m\u001b[32m                       |\u001b[0m\n",
       "\u001b[32m✓\u001b[0m\u001b[32m | ⏱: \u001b[0m\u001b[1;32m2.\u001b[0m\u001b[32m61s \u001b[0m\n"
      ]
     },
     "metadata": {},
     "output_type": "display_data"
    },
    {
     "data": {
      "text/html": [
       "<pre style=\"white-space:pre;overflow-x:auto;line-height:normal;font-family:Menlo,'DejaVu Sans Mono',consolas,'Courier New',monospace\"><span style=\"color: #008000; text-decoration-color: #008000; font-weight: bold\">[</span><span style=\"color: #008000; text-decoration-color: #008000\">SCRAPE</span><span style=\"color: #008000; text-decoration-color: #008000; font-weight: bold\">]</span><span style=\"color: #008000; text-decoration-color: #008000\">.. ◆ </span><span style=\"color: #008000; text-decoration-color: #008000; text-decoration: underline\">https://www.fh-swf.de/de/studienangebot/studiengaenge/master_studiengaenge.php</span><span style=\"color: #008000; text-decoration-color: #008000\">                       |</span>\n",
       "<span style=\"color: #008000; text-decoration-color: #008000\">✓ | ⏱: </span><span style=\"color: #008000; text-decoration-color: #008000; font-weight: bold\">0.</span><span style=\"color: #008000; text-decoration-color: #008000\">03s </span>\n",
       "</pre>\n"
      ],
      "text/plain": [
       "\u001b[1;32m[\u001b[0m\u001b[32mSCRAPE\u001b[0m\u001b[1;32m]\u001b[0m\u001b[32m.. ◆ \u001b[0m\u001b[4;32mhttps://www.fh-swf.de/de/studienangebot/studiengaenge/master_studiengaenge.php\u001b[0m\u001b[32m                       |\u001b[0m\n",
       "\u001b[32m✓\u001b[0m\u001b[32m | ⏱: \u001b[0m\u001b[1;32m0.\u001b[0m\u001b[32m03s \u001b[0m\n"
      ]
     },
     "metadata": {},
     "output_type": "display_data"
    },
    {
     "data": {
      "text/html": [
       "<pre style=\"white-space:pre;overflow-x:auto;line-height:normal;font-family:Menlo,'DejaVu Sans Mono',consolas,'Courier New',monospace\"><span style=\"color: #008000; text-decoration-color: #008000; font-weight: bold\">[</span><span style=\"color: #008000; text-decoration-color: #008000\">COMPLETE</span><span style=\"color: #008000; text-decoration-color: #008000; font-weight: bold\">]</span><span style=\"color: #008000; text-decoration-color: #008000\"> ● </span><span style=\"color: #008000; text-decoration-color: #008000; text-decoration: underline\">https://www.fh-swf.de/de/studienangebot/studiengaenge/master_studiengaenge.php</span><span style=\"color: #008000; text-decoration-color: #008000\">                       |</span>\n",
       "<span style=\"color: #008000; text-decoration-color: #008000\">✓ | ⏱: </span><span style=\"color: #008000; text-decoration-color: #008000; font-weight: bold\">2.</span><span style=\"color: #008000; text-decoration-color: #008000\">64s </span>\n",
       "</pre>\n"
      ],
      "text/plain": [
       "\u001b[1;32m[\u001b[0m\u001b[32mCOMPLETE\u001b[0m\u001b[1;32m]\u001b[0m\u001b[32m ● \u001b[0m\u001b[4;32mhttps://www.fh-swf.de/de/studienangebot/studiengaenge/master_studiengaenge.php\u001b[0m\u001b[32m                       |\u001b[0m\n",
       "\u001b[32m✓\u001b[0m\u001b[32m | ⏱: \u001b[0m\u001b[1;32m2.\u001b[0m\u001b[32m64s \u001b[0m\n"
      ]
     },
     "metadata": {},
     "output_type": "display_data"
    },
    {
     "name": "stdout",
     "output_type": "stream",
     "text": [
      "[Zum Inhalt springen](https://www.fh-swf.de/de/studienangebot/studiengaenge/master_studiengaenge.php#main)\n",
      "# Unsere Master-Studiengänge\n",
      "![](https://www.fh-swf.de/media/neu_np/allgemein_8/bilder_neu/soest_np/hoersaal__mensa__bib_leer/FH-SW_Website-2718_keyvisual_small_l.jpg)\n",
      "  1. [Studienangebot](https://www.fh-swf.de/de/studienangebot/index.php)\n",
      "  2. [Studiengänge](https://www.fh-swf.de/de/studienangebot/studiengaenge/index.php)\n",
      "\n",
      "\n",
      "## Finden Sie Ihren Master-Studiengang\n",
      "  * Alle Studiengänge\n",
      "  * Fachgebiet\n",
      "#### Fachgebiet\n",
      "    * Agrarwirtschaft\n",
      "    * Designmanagement und Produktentwicklung\n",
      "    * Gesundheits- und Naturwissenschaften \n",
      "    * Informatik und Digitalisierung\n",
      "    * Pädagogik und Psychologie \n",
      "    * Technik und Ingenieurwesen \n",
      "    * Umwelt und Nachhaltigkeit \n",
      "    * Wirtschaft und Recht\n",
      "24Ergebnisse\n",
      "anzeigen\n",
      "alle Filter zurücksetzen\n",
      "  * Standort\n",
      "#### Standort\n",
      "    * Hagen\n",
      "    * Iserlohn\n",
      "    * Lüdenscheid\n",
      "    * Meschede\n",
      "    * Soest\n",
      "24Ergebnisse\n",
      "anzeigen\n",
      "alle Filter zurücksetzen\n",
      "  * Studienmodell\n",
      "#### Studienmodell\n",
      "    * Vollzeit\n",
      "    * Berufsbegleitendes Verbundstudium\n",
      "    * Duales Studium\n",
      "    * Kooperative Modelle\n",
      "    * Studium Flexibel\n",
      "    * Teilzeit\n",
      "24Ergebnisse\n",
      "anzeigen\n",
      "alle Filter zurücksetzen\n",
      "  * Studienvoraussetzung\n",
      "#### Studienvoraussetzung\n",
      "    * ohne Eignungstest\n",
      "    * ohne NC\n",
      "    * ohne Studiengebühren\n",
      "    * ohne Vorpraktikum\n",
      "24Ergebnisse\n",
      "anzeigen\n",
      "alle Filter zurücksetzen\n",
      "  * Unterrichtssprache\n",
      "#### Unterrichtssprache\n",
      "    * Deutsch (C1+C2)\n",
      "    * Englisch\n",
      "    * TestDaf3 / DSH1 / C1\n",
      "    * TestDaf4 / DSH2 / C1\n",
      "    * TestDaf5 / DSH3 / C2\n",
      "24Ergebnisse\n",
      "anzeigen\n",
      "alle Filter zurücksetzen\n",
      "  * Studienbeginn\n",
      "#### Studienbeginn\n",
      "    * Sommersemester\n",
      "    * Wintersemester\n",
      "24Ergebnisse\n",
      "anzeigen\n",
      "alle Filter zurücksetzen\n",
      "\n",
      "\n",
      "  * Alle Filter anzeigenweitere Filter\n",
      "##### Studienvoraussetzung\n",
      "    * ohne Eignungstest\n",
      "    * ohne NC\n",
      "    * ohne Studiengebühren\n",
      "    * ohne Vorpraktikum\n",
      "##### Unterrichtssprache\n",
      "    * Deutsch (C1+C2)\n",
      "    * Englisch\n",
      "    * TestDaf3 / DSH1 / C1\n",
      "    * TestDaf4 / DSH2 / C1\n",
      "    * TestDaf5 / DSH3 / C2\n",
      "24Ergebnisse\n",
      "anzeigen\n",
      "alle Filter zurücksetzen\n",
      "\n",
      "\n",
      "## 24 Studiengänge\n",
      "Soest|SommersemesterWintersemester\n",
      "##### Advanced Engineering and Engineering Management M.Sc.\n",
      "This unique international Master's course combines managerial and business content with engineering subjects related to current research, enabling you to master all challenges at the intersection of technology and business.\n",
      "[Mehr erfahren ](https://www.fh-swf.de/de/international_3/programmes/systems_engineering_and_engineering_management__m_sc__/index.php \"Mehr erfahren\")\n",
      "Soest|SommersemesterWintersemester\n",
      "##### Agrarwirtschaft M.Sc.\n",
      "Sie möchten sich den Herausforderungen der modernen Landwirtschaft stellen? Dann qualifizieren Sie sich für Führungsaufgaben in landwirtschaftlichen Betrieben oder in nationalen und internationalen Unternehmen.\n",
      "[Mehr erfahren ](https://www.fh-swf.de/de/studienangebot/studiengaenge/agrarwirtschaft__m_sc_/index.php \"Mehr erfahren\")\n",
      "Iserlohn|SommersemesterWintersemester\n",
      "##### Angewandte Informatik M.Sc. (berufsbegleitendes Verbundstudium)\n",
      "Dieses vertiefende Informatik-Studium orientiert sich an den Haupteinsatzfeldern und den Entwicklungstrends der Informatik. Hier lernen Sie, moderne IT-Lösungen für Herausforderungen in Industrie und Wissenschaft zu entwickeln.\n",
      "[Mehr erfahren ](https://www.fh-swf.de/de/studienangebot/studiengaenge/iserl/angewandte_informatik_m_sc_vb/index.php \"Mehr erfahren\")\n",
      "Iserlohn|Wintersemester\n",
      "##### Angewandte Künstliche Intelligenz M.Sc. (berufsbegleitendes Verbundstudium)\n",
      "Sie möchten fundierte KI-Kompetenzen erwerben und sich zum/zur KI-Expert*in weiterqualifizieren? Das ist mit diesem berufsbegleitenden Studium ganz flexibel möglich.\n",
      "[Mehr erfahren ](https://www.fh-swf.de/de/studienangebot/studiengaenge/angewandte_kuenstliche_intelligenz/index.php \"Mehr erfahren\")\n",
      "Meschede|Wintersemester\n",
      "##### Data Science M.Sc. (berufsbegleitend)\n",
      "Erlernen Sie modernste Methoden der Künstlichen Intelligenz und des Maschinellen Lernens, um als Data Scientist in praktisch allen Branchen durch das Analysieren größter Datenmengen Wissen zu generieren.\n",
      "[Mehr erfahren ](https://www.fh-swf.de/de/studienangebot/studiengaenge/data_science_b_sc___berufsbegleitend__meschede/index.php \"Mehr erfahren\")\n",
      "Soest|SommersemesterWintersemester\n",
      "##### Digitale Technologien M.Eng.\n",
      "Dieses interdisziplinäre Master-Studium bietet Ihnen das Rüstzeug für eine erfolgreiche Karriere in der digitalen Zukunft. Lernen Sie, Digitalisierungstechnologien adäquat einzusetzen und die Möglichkeiten und Grenzen zu verstehen.\n",
      "[Mehr erfahren ](https://www.fh-swf.de/de/studienangebot/studiengaenge/digitale_technologien_m_eng_/index.php \"Mehr erfahren\")\n",
      "Meschede|SommersemesterWintersemester\n",
      "##### Elektrotechnik M.Eng.\n",
      "Vertiefen Sie Ihr Wissen in den Bereichen IT-Systeme, Kommunikationstechnik, Automatisierungssysteme oder Mechatronik, um bei der Gestaltung moderner vernetzter Produktions- und Dienstleistungsprozesse aktiv werden zu können.\n",
      "[Mehr erfahren ](https://www.fh-swf.de/de/studienangebot/studiengaenge/elektrotechnik_m_eng_/index.php \"Mehr erfahren\")\n",
      "Hagen|SommersemesterWintersemester\n",
      "##### Elektrotechnik M.Eng. (berufsbegleitendes Verbundstudium)\n",
      "Die Elektrotechnik ist der Motor des technischen Fortschritts. Wollen auch Sie sich einen Schritt weiter wagen? Dann qualifizieren Sie sich neben dem Beruf für Führungsaufgaben in diversen Unternehmensbereichen.\n",
      "[Mehr erfahren ](https://www.fh-swf.de/de/studienangebot/studiengaenge/elektrotechnik_m_eng___berufsbegleitendes_verbundstudium_/elektrotechnik_m_eng___berufsbegleitendes_verbundstudium_1.php \"Mehr erfahren\")\n",
      "HagenIserlohnMeschedeSoest|WintersemesterSommersemester\n",
      "##### Forschungsmaster: Angewandte Wissenschaft in Technik, Wirtschaft und Gesellschaft M.Sc.\n",
      "Sie möchten für eine bestmögliche Vorbereitung auf eine Tätigkeit im Bereich der Forschung und Entwicklung schon während des Studiums intensiv forschen? Dann entscheiden Sie sich für diesen maßgeschneiderten Master, bei dem Sie den Forschungsschwerpunkt selbst wählen.\n",
      "[Mehr erfahren ](https://www.fh-swf.de/de/studienangebot/studiengaenge/angewandte_wissenschaft_in_technik_und_wirtschaft_m_sc_/index.php \"Mehr erfahren\")\n",
      "Soest|SommersemesterWintersemester\n",
      "##### Frühpädagogik M.A. (berufsbegleitendes Verbundstudium)\n",
      "Vertiefen Sie Ihre Kenntnisse neben dem Beruf und/oder der Familie und qualifizieren Sie sich für Führungspositionen in frühpädagogischen Institutionen oder im Bereich Forschung und Lehre.\n",
      "[Mehr erfahren ](https://www.fh-swf.de/de/studienangebot/studiengaenge/fruehpaedagogik_m_a___berufsbegleitendes_verbundstudium_/index.php \"Mehr erfahren\")\n",
      "Hagen|SommersemesterWintersemester\n",
      "##### Informatics and Business M.Sc.\n",
      "Werden Sie Expert*in an der Schnittstelle zwischen technischer Idee und fachlicher Umsetzung von Informations- und Kommunikationssystemen in internationalem Umfeld.\n",
      "[Mehr erfahren ](https://www.fh-swf.de/de/international_3/programmes/informatics_and_business_m_sc_1/index.php \"Mehr erfahren\")\n",
      "Iserlohn|SommersemesterWintersemester\n",
      "##### Integrierte Produktentwicklung M.Eng.\n",
      "Stärken Sie Ihre naturwissenschaftlich-technischen Grundlagen in den Richtungen Produkt Engineering und Automotive Engineering und lernen Sie, Industrieprozesse ganzheitlich zu planen und umzusetzen.\n",
      "[Mehr erfahren ](https://www.fh-swf.de/de/studienangebot/studiengaenge/integrierte_produktentwicklung_m_eng_/index.php \"Mehr erfahren\")\n",
      "Soest|Sommersemester\n",
      "##### International Management & Information Systems M.A.\n",
      "Accquire key Business Administration competencies in IT-related subjects and boost your leadership roles in a tech-based globalised economy.\n",
      "[Mehr erfahren ](https://www.fh-swf.de/de/international_3/programmes/international_management___information_systems_m_a_1/index.php \"Mehr erfahren\")\n",
      "SoestOnline|Wintersemester\n",
      "##### International Management and Information Systems – Online M.A. (Postgraduate part-time study course)\n",
      "Study online from anywhere, at any time. Expand your knowledge of management and IT, and prepare for leadership roles in the global economy.\n",
      "[Mehr erfahren ](https://www.fh-swf.de/de/international_3/programmes/international_management___information_system_online_m_a_/index.php \"Mehr erfahren\")\n",
      "Iserlohn|Wintersemester\n",
      "##### Life Science Engineering M.Sc. (berufsbegleitendes Verbundstudium)\n",
      "Verbinden Sie Ihr Interesse an Ingenieur- und Lebenswissenschaften und studieren Sie Deutschlands einzigen berufsbegleitenden Life-Science-Masterstudiengang mit klarem Industriebezug.\n",
      "[Mehr erfahren ](https://www.fh-swf.de/de/studienangebot/studiengaenge/life_science_engineering_m_sc_/index.php \"Mehr erfahren\")\n",
      "HagenMeschede|Sommersemester\n",
      "##### Management für Ingenieur- und Naturwissenschaften MBA (berufsbegleitender weiterbildender Master-Verbundstudiengang)\n",
      "Qualifizieren Sie sich berufsbegleitend für die Übernahme von Führungsaufgaben, indem Sie die dazu erforderlichen betriebswirtschaftlichen Kenntnisse in Kombination mit wichtigen Managementkompetenzen erlangen.\n",
      "[Mehr erfahren ](https://www.fh-swf.de/de/studienangebot/studiengaenge/management_fuer_ingenieur__und_naturwissenschaften_mba__berufsbegleitender_weiterbildender_master_verbundstudiengang_/management_fuer_ingenieur__und_naturwissenschaften_mba__berufsbegleitender_weiterbildender_master_verbundstudiengang_1.php \"Mehr erfahren\")\n",
      "IserlohnLüdenscheidMeschede|Wintersemester\n",
      "##### Maschinenbau M.Eng. (berufsbegleitendes Verbundstudium)\n",
      "Vertiefen Sie mit diesem berufsbegleitenden Studiengang mit klarem Industriebezug Ihre natur- und ingenieurwissenschaftlichen Kenntnisse und Managementkompetenzen. Wählen Sie zwischen der fünfsemestrigen und sechssemestrigen Variante.\n",
      "[Mehr erfahren ](https://www.fh-swf.de/de/studienangebot/studiengaenge/maschinenbau_m_eng___berufsbegleitendes_verbundstudium_/index.php \"Mehr erfahren\")\n",
      "Soest|SommersemesterWintersemester\n",
      "##### Medienpädagogik M.A. (berufsbegleitendes Verbundstudium)\n",
      "Qualifizieren Sie sich neben Beruf und/oder Familie in gesellschaftlich immer bedeutsameren medienpädagogischen Arbeitsfeldern rund um Medienkompetenz, -nutzung und -wirkung.\n",
      "[Mehr erfahren ](https://www.fh-swf.de/de/studienangebot/studiengaenge/medienpaedagogik_m_a___berufsbegleitendes_verbundstudium_/index.php \"Mehr erfahren\")\n",
      "Lüdenscheid|SommersemesterWintersemester\n",
      "##### Medizintechnik M.Eng.\n",
      "Sie möchten zum Wohle des Menschen tätig sein und Ihr Fachwissen in der Medizintechnik vertiefen? Dann ist dieser Masterstudiengang mit seinen Vertiefungsmodulen genau richtig für Sie.\n",
      "[Mehr erfahren ](https://www.fh-swf.de/de/studienangebot/studiengaenge/medizintechnik_m_eng_/medizintechnik_m_eng_1.php \"Mehr erfahren\")\n",
      "Meschede|SommersemesterWintersemester\n",
      "##### Strategisches Management M.A.\n",
      "Wirtschaft weitergedacht: Dieser Studiengang vermittelt tiefgehendes Wissen in den Bereichen Unternehmensführung, Marketing und Management und bietet Anwendungs- und Forschungsorientierung in einem.\n",
      "[Mehr erfahren ](https://www.fh-swf.de/de/studienangebot/studiengaenge/strategisches_management_m_a_/index.php \"Mehr erfahren\")\n",
      "Soest|Wintersemester\n",
      "##### Technik- und Unternehmensmanagement M.Eng. (berufsbegleitender weiterbildender Master-Verbundstudiengang)\n",
      "Setzen Sie Ihren Fokus auf Technik, Prozesse und Unternehmen und bilden Sie sich berufsbegleitend zum*zur Unternehmensmanager*in in technisch orientierten Bereichen weiter.\n",
      "[Mehr erfahren ](https://www.fh-swf.de/de/studienangebot/studiengaenge/technik__und_unternehmensmanagement_m_eng___berufsbegleitender_weiterbildender_master_verbundstudiengang_/index.php \"Mehr erfahren\")\n",
      "Hagen|SommersemesterWintersemester\n",
      "##### Wirtschaftsingenieurwesen M.Sc.\n",
      "Vertiefen Sie Ihr Wissen in den Kompetenzfeldern Produktions- und Informationstechnik und Management und werden Sie als Wirtschaftsingenieur*in zum*zur gefragten Querschnittsdenker*in.\n",
      "[Mehr erfahren ](https://www.fh-swf.de/de/studienangebot/studiengaenge/wirtschaftsingenieurwesen_m_sc_/wirtschaftsingenieurwesen_m_sc_1.php \"Mehr erfahren\")\n",
      "Meschede|SommersemesterWintersemester\n",
      "##### Wirtschaftspsychologie M.Sc. mit Schwerpunkt Coaching & Change\n",
      "Vertiefen Sie mit diesem Studiengang Ihr wirtschaftspsychologisches Wissen und bauen Sie Ihre Kompetenzen in Coaching, Change Management und Führungsmethoden aus, um auf individueller aber auch organisatorischer Ebene agieren zu können.\n",
      "[Mehr erfahren ](https://www.fh-swf.de/de/studienangebot/studiengaenge/mes/wirtschaftspsychologie_m_sc_/index.php \"Mehr erfahren\")\n",
      "Hagen|Sommersemester\n",
      "##### Wirtschaftsrecht LL.M. (berufsbegleitender weiterbildender Master-Verbundstudiengang)\n",
      "Erlangen Sie mit diesem weiterbildenden Masterstudiengang berufsbegleitend vertiefende Rechts- und Managementkenntnisse und steigen Sie beruflich auf.\n",
      "[Mehr erfahren ](https://www.fh-swf.de/de/studienangebot/studiengaenge/wirtschaftsrecht_ll_m___berufsbegleitender_weiterbildender_master_verbundstudiengang_/wirtschaftsrecht_ll_m___berufsbegleitender_weiterbildender_master_verbundstudiengang_1.php \"Mehr erfahren\")\n",
      "Bitte wählen Sie Ihre Präferenz:\n",
      "Alles akzeptieren  Nur notwendige Cookies  [Datenschutz](https://www.fh-swf.de/de/footer_3/datenschutz_5.php \"Datenschutz\")\n",
      "\n"
     ]
    }
   ],
   "source": [
    "async with AsyncWebCrawler() as crawler:\n",
    "    js_code = [\n",
    "            \"const loadMoreButton = Array.from(document.querySelectorAll('button')).find(button => button.textContent.toLowerCase().includes('mehr')); loadMoreButton && loadMoreButton.click();\"\n",
    "    ]\n",
    "    config = CrawlerRunConfig(\n",
    "            #cache_mode=CacheMode.ENABLED,\n",
    "            js_code=js_code,\n",
    "            excluded_tags=[\"header\", \"footer\"],\n",
    "            # remove_overlay_elements=True,\n",
    "            # wait_for=wait_for,\n",
    "        )\n",
    "    content = await crawler.arun(\n",
    "        url=result['results'][0]['url'],\n",
    "        config=config,\n",
    "    )\n",
    "    print(content.markdown)"
   ]
  },
  {
   "cell_type": "code",
   "execution_count": 105,
   "id": "fd033631",
   "metadata": {},
   "outputs": [
    {
     "data": {
      "text/plain": [
       "'# Unsere Master-Studiengänge\\n![](https://www.fh-swf.de/media/neu_np/allgemein_8/bilder_neu/soest_np/hoersaal__mensa__bib_leer/FH-SW_Website-2718_keyvisual_small_l.jpg)\\n  1. [Studienangebot](https://www.fh-swf.de/de/studienangebot/index.php)\\n  2. [Studiengänge](https://www.fh-swf.de/de/studienangebot/studiengaenge/index.php)\\n\\n\\n## Finden Sie Ihren Master-Studiengang\\n  * Alle Studiengänge\\n  * Fachgebiet\\n#### Fachgebiet\\n    * Agrarwirtschaft\\n    * Designmanagement und Produktentwicklung\\n    * Gesundheits- und Naturwissenschaften \\n    * Informatik und Digitalisierung\\n    * Pädagogik und Psychologie \\n    * Technik und Ingenieurwesen \\n    * Umwelt und Nachhaltigkeit \\n    * Wirtschaft und Recht\\n24Ergebnisse\\nanzeigen\\nalle Filter zurücksetzen\\n  * Standort\\n#### Standort\\n    * Hagen\\n    * Iserlohn\\n    * Lüdenscheid\\n    * Meschede\\n    * Soest\\n24Ergebnisse\\nanzeigen\\nalle Filter zurücksetzen\\n  * Studienmodell\\n#### Studienmodell\\n    * Vollzeit\\n    * Berufsbegleitendes Verbundstudium\\n    * Duales Studium\\n    * Kooperative Modelle\\n    * Studium Flexibel\\n    * Teilzeit\\n24Ergebnisse\\nanzeigen\\nalle Filter zurücksetzen\\n  * Studienvoraussetzung\\n#### Studienvoraussetzung\\n    * ohne Eignungstest\\n    * ohne NC\\n    * ohne Studiengebühren\\n    * ohne Vorpraktikum\\n24Ergebnisse\\nanzeigen\\nalle Filter zurücksetzen\\n  * Unterrichtssprache\\n#### Unterrichtssprache\\n    * Deutsch (C1+C2)\\n    * Englisch\\n    * TestDaf3 / DSH1 / C1\\n    * TestDaf4 / DSH2 / C1\\n    * TestDaf5 / DSH3 / C2\\n24Ergebnisse\\nanzeigen\\nalle Filter zurücksetzen\\n  * Studienbeginn\\n#### Studienbeginn\\n    * Sommersemester\\n    * Wintersemester\\n24Ergebnisse\\nanzeigen\\nalle Filter zurücksetzen\\n\\n\\n  * Alle Filter anzeigenweitere Filter\\n##### Studienvoraussetzung\\n    * ohne Eignungstest\\n    * ohne NC\\n    * ohne Studiengebühren\\n    * ohne Vorpraktikum\\n##### Unterrichtssprache\\n    * Deutsch (C1+C2)\\n    * Englisch\\n    * TestDaf3 / DSH1 / C1\\n    * TestDaf4 / DSH2 / C1\\n    * TestDaf5 / DSH3 / C2\\n24Ergebnisse\\nanzeigen\\nalle Filter zurücksetzen\\n\\n\\n## 24 Studiengänge\\nSoest|SommersemesterWintersemester\\n##### Advanced Engineering and Engineering Management M.Sc.\\nThis unique international Master\\'s course combines managerial and business content with engineering subjects related to current research, enabling you to master all challenges at the intersection of technology and business.\\n[Mehr erfahren ](https://www.fh-swf.de/de/international_3/programmes/systems_engineering_and_engineering_management__m_sc__/index.php \"Mehr erfahren\")\\nSoest|SommersemesterWintersemester\\n##### Agrarwirtschaft M.Sc.\\nSie möchten sich den Herausforderungen der modernen Landwirtschaft stellen? Dann qualifizieren Sie sich für Führungsaufgaben in landwirtschaftlichen Betrieben oder in nationalen und internationalen Unternehmen.\\n[Mehr erfahren ](https://www.fh-swf.de/de/studienangebot/studiengaenge/agrarwirtschaft__m_sc_/index.php \"Mehr erfahren\")\\nIserlohn|SommersemesterWintersemester\\n##### Angewandte Informatik M.Sc. (berufsbegleitendes Verbundstudium)\\nDieses vertiefende Informatik-Studium orientiert sich an den Haupteinsatzfeldern und den Entwicklungstrends der Informatik. Hier lernen Sie, moderne IT-Lösungen für Herausforderungen in Industrie und Wissenschaft zu entwickeln.\\n[Mehr erfahren ](https://www.fh-swf.de/de/studienangebot/studiengaenge/iserl/angewandte_informatik_m_sc_vb/index.php \"Mehr erfahren\")\\nIserlohn|Wintersemester\\n##### Angewandte Künstliche Intelligenz M.Sc. (berufsbegleitendes Verbundstudium)\\nSie möchten fundierte KI-Kompetenzen erwerben und sich zum/zur KI-Expert*in weiterqualifizieren? Das ist mit diesem berufsbegleitenden Studium ganz flexibel möglich.\\n[Mehr erfahren ](https://www.fh-swf.de/de/studienangebot/studiengaenge/angewandte_kuenstliche_intelligenz/index.php \"Mehr erfahren\")\\nMeschede|Wintersemester\\n##### Data Science M.Sc. (berufsbegleitend)\\nErlernen Sie modernste Methoden der Künstlichen Intelligenz und des Maschinellen Lernens, um als Data Scientist in praktisch allen Branchen durch das Analysieren größter Datenmengen Wissen zu generieren.\\n[Mehr erfahren ](https://www.fh-swf.de/de/studienangebot/studiengaenge/data_science_b_sc___berufsbegleitend__meschede/index.php \"Mehr erfahren\")\\nSoest|SommersemesterWintersemester\\n##### Digitale Technologien M.Eng.\\nDieses interdisziplinäre Master-Studium bietet Ihnen das Rüstzeug für eine erfolgreiche Karriere in der digitalen Zukunft. Lernen Sie, Digitalisierungstechnologien adäquat einzusetzen und die Möglichkeiten und Grenzen zu verstehen.\\n[Mehr erfahren ](https://www.fh-swf.de/de/studienangebot/studiengaenge/digitale_technologien_m_eng_/index.php \"Mehr erfahren\")\\nMeschede|SommersemesterWintersemester\\n##### Elektrotechnik M.Eng.\\nVertiefen Sie Ihr Wissen in den Bereichen IT-Systeme, Kommunikationstechnik, Automatisierungssysteme oder Mechatronik, um bei der Gestaltung moderner vernetzter Produktions- und Dienstleistungsprozesse aktiv werden zu können.\\n[Mehr erfahren ](https://www.fh-swf.de/de/studienangebot/studiengaenge/elektrotechnik_m_eng_/index.php \"Mehr erfahren\")\\nHagen|SommersemesterWintersemester\\n##### Elektrotechnik M.Eng. (berufsbegleitendes Verbundstudium)\\nDie Elektrotechnik ist der Motor des technischen Fortschritts. Wollen auch Sie sich einen Schritt weiter wagen? Dann qualifizieren Sie sich neben dem Beruf für Führungsaufgaben in diversen Unternehmensbereichen.\\n[Mehr erfahren ](https://www.fh-swf.de/de/studienangebot/studiengaenge/elektrotechnik_m_eng___berufsbegleitendes_verbundstudium_/elektrotechnik_m_eng___berufsbegleitendes_verbundstudium_1.php \"Mehr erfahren\")\\nHagenIserlohnMeschedeSoest|WintersemesterSommersemester\\n##### Forschungsmaster: Angewandte Wissenschaft in Technik, Wirtschaft und Gesellschaft M.Sc.\\nSie möchten für eine bestmögliche Vorbereitung auf eine Tätigkeit im Bereich der Forschung und Entwicklung schon während des Studiums intensiv forschen? Dann entscheiden Sie sich für diesen maßgeschneiderten Master, bei dem Sie den Forschungsschwerpunkt selbst wählen.\\n[Mehr erfahren ](https://www.fh-swf.de/de/studienangebot/studiengaenge/angewandte_wissenschaft_in_technik_und_wirtschaft_m_sc_/index.php \"Mehr erfahren\")\\nSoest|SommersemesterWintersemester\\n##### Frühpädagogik M.A. (berufsbegleitendes Verbundstudium)\\nVertiefen Sie Ihre Kenntnisse neben dem Beruf und/oder der Familie und qualifizieren Sie sich für Führungspositionen in frühpädagogischen Institutionen oder im Bereich Forschung und Lehre.\\n[Mehr erfahren ](https://www.fh-swf.de/de/studienangebot/studiengaenge/fruehpaedagogik_m_a___berufsbegleitendes_verbundstudium_/index.php \"Mehr erfahren\")\\nHagen|SommersemesterWintersemester\\n##### Informatics and Business M.Sc.\\nWerden Sie Expert*in an der Schnittstelle zwischen technischer Idee und fachlicher Umsetzung von Informations- und Kommunikationssystemen in internationalem Umfeld.\\n[Mehr erfahren ](https://www.fh-swf.de/de/international_3/programmes/informatics_and_business_m_sc_1/index.php \"Mehr erfahren\")\\nIserlohn|SommersemesterWintersemester\\n##### Integrierte Produktentwicklung M.Eng.\\nStärken Sie Ihre naturwissenschaftlich-technischen Grundlagen in den Richtungen Produkt Engineering und Automotive Engineering und lernen Sie, Industrieprozesse ganzheitlich zu planen und umzusetzen.\\n[Mehr erfahren ](https://www.fh-swf.de/de/studienangebot/studiengaenge/integrierte_produktentwicklung_m_eng_/index.php \"Mehr erfahren\")\\nSoest|Sommersemester\\n##### International Management & Information Systems M.A.\\nAccquire key Business Administration competencies in IT-related subjects and boost your leadership roles in a tech-based globalised economy.\\n[Mehr erfahren ](https://www.fh-swf.de/de/international_3/programmes/international_management___information_systems_m_a_1/index.php \"Mehr erfahren\")\\nSoestOnline|Wintersemester\\n##### International Management and Information Systems – Online M.A. (Postgraduate part-time study course)\\nStudy online from anywhere, at any time. Expand your knowledge of management and IT, and prepare for leadership roles in the global economy.\\n[Mehr erfahren ](https://www.fh-swf.de/de/international_3/programmes/international_management___information_system_online_m_a_/index.php \"Mehr erfahren\")\\nIserlohn|Wintersemester\\n##### Life Science Engineering M.Sc. (berufsbegleitendes Verbundstudium)\\nVerbinden Sie Ihr Interesse an Ingenieur- und Lebenswissenschaften und studieren Sie Deutschlands einzigen berufsbegleitenden Life-Science-Masterstudiengang mit klarem Industriebezug.\\n[Mehr erfahren ](https://www.fh-swf.de/de/studienangebot/studiengaenge/life_science_engineering_m_sc_/index.php \"Mehr erfahren\")\\nHagenMeschede|Sommersemester\\n##### Management für Ingenieur- und Naturwissenschaften MBA (berufsbegleitender weiterbildender Master-Verbundstudiengang)\\nQualifizieren Sie sich berufsbegleitend für die Übernahme von Führungsaufgaben, indem Sie die dazu erforderlichen betriebswirtschaftlichen Kenntnisse in Kombination mit wichtigen Managementkompetenzen erlangen.\\n[Mehr erfahren ](https://www.fh-swf.de/de/studienangebot/studiengaenge/management_fuer_ingenieur__und_naturwissenschaften_mba__berufsbegleitender_weiterbildender_master_verbundstudiengang_/management_fuer_ingenieur__und_naturwissenschaften_mba__berufsbegleitender_weiterbildender_master_verbundstudiengang_1.php \"Mehr erfahren\")\\nIserlohnLüdenscheidMeschede|Wintersemester\\n##### Maschinenbau M.Eng. (berufsbegleitendes Verbundstudium)\\nVertiefen Sie mit diesem berufsbegleitenden Studiengang mit klarem Industriebezug Ihre natur- und ingenieurwissenschaftlichen Kenntnisse und Managementkompetenzen. Wählen Sie zwischen der fünfsemestrigen und sechssemestrigen Variante.\\n[Mehr erfahren ](https://www.fh-swf.de/de/studienangebot/studiengaenge/maschinenbau_m_eng___berufsbegleitendes_verbundstudium_/index.php \"Mehr erfahren\")\\nSoest|SommersemesterWintersemester\\n##### Medienpädagogik M.A. (berufsbegleitendes Verbundstudium)\\nQualifizieren Sie sich neben Beruf und/oder Familie in gesellschaftlich immer bedeutsameren medienpädagogischen Arbeitsfeldern rund um Medienkompetenz, -nutzung und -wirkung.\\n[Mehr erfahren ](https://www.fh-swf.de/de/studienangebot/studiengaenge/medienpaedagogik_m_a___berufsbegleitendes_verbundstudium_/index.php \"Mehr erfahren\")\\nLüdenscheid|SommersemesterWintersemester\\n##### Medizintechnik M.Eng.\\nSie möchten zum Wohle des Menschen tätig sein und Ihr Fachwissen in der Medizintechnik vertiefen? Dann ist dieser Masterstudiengang mit seinen Vertiefungsmodulen genau richtig für Sie.\\n[Mehr erfahren ](https://www.fh-swf.de/de/studienangebot/studiengaenge/medizintechnik_m_eng_/medizintechnik_m_eng_1.php \"Mehr erfahren\")\\nMeschede|SommersemesterWintersemester\\n##### Strategisches Management M.A.\\nWirtschaft weitergedacht: Dieser Studiengang vermittelt tiefgehendes Wissen in den Bereichen Unternehmensführung, Marketing und Management und bietet Anwendungs- und Forschungsorientierung in einem.\\n[Mehr erfahren ](https://www.fh-swf.de/de/studienangebot/studiengaenge/strategisches_management_m_a_/index.php \"Mehr erfahren\")\\nSoest|Wintersemester\\n##### Technik- und Unternehmensmanagement M.Eng. (berufsbegleitender weiterbildender Master-Verbundstudiengang)\\nSetzen Sie Ihren Fokus auf Technik, Prozesse und Unternehmen und bilden Sie sich berufsbegleitend zum*zur Unternehmensmanager*in in technisch orientierten Bereichen weiter.\\n[Mehr erfahren ](https://www.fh-swf.de/de/studienangebot/studiengaenge/technik__und_unternehmensmanagement_m_eng___berufsbegleitender_weiterbildender_master_verbundstudiengang_/index.php \"Mehr erfahren\")\\nHagen|SommersemesterWintersemester\\n##### Wirtschaftsingenieurwesen M.Sc.\\nVertiefen Sie Ihr Wissen in den Kompetenzfeldern Produktions- und Informationstechnik und Management und werden Sie als Wirtschaftsingenieur*in zum*zur gefragten Querschnittsdenker*in.\\n[Mehr erfahren ](https://www.fh-swf.de/de/studienangebot/studiengaenge/wirtschaftsingenieurwesen_m_sc_/wirtschaftsingenieurwesen_m_sc_1.php \"Mehr erfahren\")\\nMeschede|SommersemesterWintersemester\\n##### Wirtschaftspsychologie M.Sc. mit Schwerpunkt Coaching & Change\\nVertiefen Sie mit diesem Studiengang Ihr wirtschaftspsychologisches Wissen und bauen Sie Ihre Kompetenzen in Coaching, Change Management und Führungsmethoden aus, um auf individueller aber auch organisatorischer Ebene agieren zu können.\\n[Mehr erfahren ](https://www.fh-swf.de/de/studienangebot/studiengaenge/mes/wirtschaftspsychologie_m_sc_/index.php \"Mehr erfahren\")\\nHagen|Sommersemester\\n##### Wirtschaftsrecht LL.M. (berufsbegleitender weiterbildender Master-Verbundstudiengang)\\nErlangen Sie mit diesem weiterbildenden Masterstudiengang berufsbegleitend vertiefende Rechts- und Managementkenntnisse und steigen Sie beruflich auf.\\n[Mehr erfahren ](https://www.fh-swf.de/de/studienangebot/studiengaenge/wirtschaftsrecht_ll_m___berufsbegleitender_weiterbildender_master_verbundstudiengang_/wirtschaftsrecht_ll_m___berufsbegleitender_weiterbildender_master_verbundstudiengang_1.php \"Mehr erfahren\")\\nBitte wählen Sie Ihre Präferenz:\\nAlles akzeptieren  Nur notwendige Cookies  [Datenschutz](https://www.fh-swf.de/de/footer_3/datenschutz_5.php \"Datenschutz\")\\n'"
      ]
     },
     "execution_count": 105,
     "metadata": {},
     "output_type": "execute_result"
    }
   ],
   "source": [
    "import re\n",
    "\n",
    "pattern = r'^#'\n",
    "match = re.search(pattern, content.markdown, re.MULTILINE)\n",
    "\n",
    "id = 0 if match is None else match.start()\n",
    "\n",
    "content.markdown[id:]"
   ]
  },
  {
   "cell_type": "code",
   "execution_count": 106,
   "id": "b7884c1c",
   "metadata": {},
   "outputs": [
    {
     "data": {
      "text/plain": [
       "13128"
      ]
     },
     "execution_count": 106,
     "metadata": {},
     "output_type": "execute_result"
    }
   ],
   "source": [
    "len(content.markdown.raw_markdown)"
   ]
  },
  {
   "cell_type": "code",
   "execution_count": 107,
   "id": "80f42bee",
   "metadata": {},
   "outputs": [
    {
     "data": {
      "text/plain": [
       "107"
      ]
     },
     "execution_count": 107,
     "metadata": {},
     "output_type": "execute_result"
    }
   ],
   "source": [
    "content.markdown.find(\"# \")"
   ]
  },
  {
   "cell_type": "code",
   "execution_count": 108,
   "id": "96cee33c",
   "metadata": {},
   "outputs": [],
   "source": [
    "with open(\"result.html\", \"w\") as f:\n",
    "    f.write(content.html)\n",
    "\n",
    "with open(\"result.md\", \"w\") as f:\n",
    "    f.write(content.markdown[id:])"
   ]
  },
  {
   "cell_type": "code",
   "execution_count": 109,
   "id": "a8eb117e",
   "metadata": {},
   "outputs": [
    {
     "data": {
      "text/plain": [
       "'[Zum Inhalt springen](https://www.fh-swf.de/de/studienangebot/studiengaenge/master_studiengaenge.php#main)\\n# Unsere Master-Studiengänge\\n![](https://www.fh-swf.de/media/neu_np/allgemein_8/bilder_neu/soest_np/hoersaal__mensa__bib_leer/FH-SW_Website-2718_keyvisual_small_l.jpg)\\n  1. [Studienangebot](https://www.fh-swf.de/de/studienangebot/index.php)\\n  2. [Studiengänge](https://www.fh-swf.de/de/studienangebot/studiengaenge/index.php)\\n\\n\\n## Finden Sie Ihren Master-Studiengang\\n  * Alle Studiengänge\\n  * Fachgebiet\\n#### Fachgebiet\\n    * Agrarwirtschaft\\n    * Designmanagement und Produktentwicklung\\n    * Gesundheits- und Naturwissenschaften \\n    * Informatik und Digitalisierung\\n    * Pädagogik und Psychologie \\n    * Technik und Ingenieurwesen \\n    * Umwelt und Nachhaltigkeit \\n    * Wirtschaft und Recht\\n24Ergebnisse\\nanzeigen\\nalle Filter zurücksetzen\\n  * Standort\\n#### Standort\\n    * Hagen\\n    * Iserlohn\\n    * Lüdenscheid\\n    * Meschede\\n    * Soest\\n24Ergebnisse\\nanzeigen\\nalle Filter zurücksetzen\\n  * Studienmodell\\n#### Studienmodell\\n    * Vollzeit\\n    * Berufsbegleitendes Verbundstudium\\n    * Duales Studium\\n    * Kooperative Modelle\\n    * Studium Flexibel\\n    * Teilzeit\\n24Ergebnisse\\nanzeigen\\nalle Filter zurücksetzen\\n  * Studienvoraussetzung\\n#### Studienvoraussetzung\\n    * ohne Eignungstest\\n    * ohne NC\\n    * ohne Studiengebühren\\n    * ohne Vorpraktikum\\n24Ergebnisse\\nanzeigen\\nalle Filter zurücksetzen\\n  * Unterrichtssprache\\n#### Unterrichtssprache\\n    * Deutsch (C1+C2)\\n    * Englisch\\n    * TestDaf3 / DSH1 / C1\\n    * TestDaf4 / DSH2 / C1\\n    * TestDaf5 / DSH3 / C2\\n24Ergebnisse\\nanzeigen\\nalle Filter zurücksetzen\\n  * Studienbeginn\\n#### Studienbeginn\\n    * Sommersemester\\n    * Wintersemester\\n24Ergebnisse\\nanzeigen\\nalle Filter zurücksetzen\\n\\n\\n  * Alle Filter anzeigenweitere Filter\\n##### Studienvoraussetzung\\n    * ohne Eignungstest\\n    * ohne NC\\n    * ohne Studiengebühren\\n    * ohne Vorpraktikum\\n##### Unterrichtssprache\\n    * Deutsch (C1+C2)\\n    * Englisch\\n    * TestDaf3 / DSH1 / C1\\n    * TestDaf4 / DSH2 / C1\\n    * TestDaf5 / DSH3 / C2\\n24Ergebnisse\\nanzeigen\\nalle Filter zurücksetzen\\n\\n\\n## 24 Studiengänge\\nSoest|SommersemesterWintersemester\\n##### Advanced Engineering and Engineering Management M.Sc.\\nThis unique international Master\\'s course combines managerial and business content with engineering subjects related to current research, enabling you to master all challenges at the intersection of technology and business.\\n[Mehr erfahren ](https://www.fh-swf.de/de/international_3/programmes/systems_engineering_and_engineering_management__m_sc__/index.php \"Mehr erfahren\")\\nSoest|SommersemesterWintersemester\\n##### Agrarwirtschaft M.Sc.\\nSie möchten sich den Herausforderungen der modernen Landwirtschaft stellen? Dann qualifizieren Sie sich für Führungsaufgaben in landwirtschaftlichen Betrieben oder in nationalen und internationalen Unternehmen.\\n[Mehr erfahren ](https://www.fh-swf.de/de/studienangebot/studiengaenge/agrarwirtschaft__m_sc_/index.php \"Mehr erfahren\")\\nIserlohn|SommersemesterWintersemester\\n##### Angewandte Informatik M.Sc. (berufsbegleitendes Verbundstudium)\\nDieses vertiefende Informatik-Studium orientiert sich an den Haupteinsatzfeldern und den Entwicklungstrends der Informatik. Hier lernen Sie, moderne IT-Lösungen für Herausforderungen in Industrie und Wissenschaft zu entwickeln.\\n[Mehr erfahren ](https://www.fh-swf.de/de/studienangebot/studiengaenge/iserl/angewandte_informatik_m_sc_vb/index.php \"Mehr erfahren\")\\nIserlohn|Wintersemester\\n##### Angewandte Künstliche Intelligenz M.Sc. (berufsbegleitendes Verbundstudium)\\nSie möchten fundierte KI-Kompetenzen erwerben und sich zum/zur KI-Expert*in weiterqualifizieren? Das ist mit diesem berufsbegleitenden Studium ganz flexibel möglich.\\n[Mehr erfahren ](https://www.fh-swf.de/de/studienangebot/studiengaenge/angewandte_kuenstliche_intelligenz/index.php \"Mehr erfahren\")\\nMeschede|Wintersemester\\n##### Data Science M.Sc. (berufsbegleitend)\\nErlernen Sie modernste Methoden der Künstlichen Intelligenz und des Maschinellen Lernens, um als Data Scientist in praktisch allen Branchen durch das Analysieren größter Datenmengen Wissen zu generieren.\\n[Mehr erfahren ](https://www.fh-swf.de/de/studienangebot/studiengaenge/data_science_b_sc___berufsbegleitend__meschede/index.php \"Mehr erfahren\")\\nSoest|SommersemesterWintersemester\\n##### Digitale Technologien M.Eng.\\nDieses interdisziplinäre Master-Studium bietet Ihnen das Rüstzeug für eine erfolgreiche Karriere in der digitalen Zukunft. Lernen Sie, Digitalisierungstechnologien adäquat einzusetzen und die Möglichkeiten und Grenzen zu verstehen.\\n[Mehr erfahren ](https://www.fh-swf.de/de/studienangebot/studiengaenge/digitale_technologien_m_eng_/index.php \"Mehr erfahren\")\\nMeschede|SommersemesterWintersemester\\n##### Elektrotechnik M.Eng.\\nVertiefen Sie Ihr Wissen in den Bereichen IT-Systeme, Kommunikationstechnik, Automatisierungssysteme oder Mechatronik, um bei der Gestaltung moderner vernetzter Produktions- und Dienstleistungsprozesse aktiv werden zu können.\\n[Mehr erfahren ](https://www.fh-swf.de/de/studienangebot/studiengaenge/elektrotechnik_m_eng_/index.php \"Mehr erfahren\")\\nHagen|SommersemesterWintersemester\\n##### Elektrotechnik M.Eng. (berufsbegleitendes Verbundstudium)\\nDie Elektrotechnik ist der Motor des technischen Fortschritts. Wollen auch Sie sich einen Schritt weiter wagen? Dann qualifizieren Sie sich neben dem Beruf für Führungsaufgaben in diversen Unternehmensbereichen.\\n[Mehr erfahren ](https://www.fh-swf.de/de/studienangebot/studiengaenge/elektrotechnik_m_eng___berufsbegleitendes_verbundstudium_/elektrotechnik_m_eng___berufsbegleitendes_verbundstudium_1.php \"Mehr erfahren\")\\nHagenIserlohnMeschedeSoest|WintersemesterSommersemester\\n##### Forschungsmaster: Angewandte Wissenschaft in Technik, Wirtschaft und Gesellschaft M.Sc.\\nSie möchten für eine bestmögliche Vorbereitung auf eine Tätigkeit im Bereich der Forschung und Entwicklung schon während des Studiums intensiv forschen? Dann entscheiden Sie sich für diesen maßgeschneiderten Master, bei dem Sie den Forschungsschwerpunkt selbst wählen.\\n[Mehr erfahren ](https://www.fh-swf.de/de/studienangebot/studiengaenge/angewandte_wissenschaft_in_technik_und_wirtschaft_m_sc_/index.php \"Mehr erfahren\")\\nSoest|SommersemesterWintersemester\\n##### Frühpädagogik M.A. (berufsbegleitendes Verbundstudium)\\nVertiefen Sie Ihre Kenntnisse neben dem Beruf und/oder der Familie und qualifizieren Sie sich für Führungspositionen in frühpädagogischen Institutionen oder im Bereich Forschung und Lehre.\\n[Mehr erfahren ](https://www.fh-swf.de/de/studienangebot/studiengaenge/fruehpaedagogik_m_a___berufsbegleitendes_verbundstudium_/index.php \"Mehr erfahren\")\\nHagen|SommersemesterWintersemester\\n##### Informatics and Business M.Sc.\\nWerden Sie Expert*in an der Schnittstelle zwischen technischer Idee und fachlicher Umsetzung von Informations- und Kommunikationssystemen in internationalem Umfeld.\\n[Mehr erfahren ](https://www.fh-swf.de/de/international_3/programmes/informatics_and_business_m_sc_1/index.php \"Mehr erfahren\")\\nIserlohn|SommersemesterWintersemester\\n##### Integrierte Produktentwicklung M.Eng.\\nStärken Sie Ihre naturwissenschaftlich-technischen Grundlagen in den Richtungen Produkt Engineering und Automotive Engineering und lernen Sie, Industrieprozesse ganzheitlich zu planen und umzusetzen.\\n[Mehr erfahren ](https://www.fh-swf.de/de/studienangebot/studiengaenge/integrierte_produktentwicklung_m_eng_/index.php \"Mehr erfahren\")\\nSoest|Sommersemester\\n##### International Management & Information Systems M.A.\\nAccquire key Business Administration competencies in IT-related subjects and boost your leadership roles in a tech-based globalised economy.\\n[Mehr erfahren ](https://www.fh-swf.de/de/international_3/programmes/international_management___information_systems_m_a_1/index.php \"Mehr erfahren\")\\nSoestOnline|Wintersemester\\n##### International Management and Information Systems – Online M.A. (Postgraduate part-time study course)\\nStudy online from anywhere, at any time. Expand your knowledge of management and IT, and prepare for leadership roles in the global economy.\\n[Mehr erfahren ](https://www.fh-swf.de/de/international_3/programmes/international_management___information_system_online_m_a_/index.php \"Mehr erfahren\")\\nIserlohn|Wintersemester\\n##### Life Science Engineering M.Sc. (berufsbegleitendes Verbundstudium)\\nVerbinden Sie Ihr Interesse an Ingenieur- und Lebenswissenschaften und studieren Sie Deutschlands einzigen berufsbegleitenden Life-Science-Masterstudiengang mit klarem Industriebezug.\\n[Mehr erfahren ](https://www.fh-swf.de/de/studienangebot/studiengaenge/life_science_engineering_m_sc_/index.php \"Mehr erfahren\")\\nHagenMeschede|Sommersemester\\n##### Management für Ingenieur- und Naturwissenschaften MBA (berufsbegleitender weiterbildender Master-Verbundstudiengang)\\nQualifizieren Sie sich berufsbegleitend für die Übernahme von Führungsaufgaben, indem Sie die dazu erforderlichen betriebswirtschaftlichen Kenntnisse in Kombination mit wichtigen Managementkompetenzen erlangen.\\n[Mehr erfahren ](https://www.fh-swf.de/de/studienangebot/studiengaenge/management_fuer_ingenieur__und_naturwissenschaften_mba__berufsbegleitender_weiterbildender_master_verbundstudiengang_/management_fuer_ingenieur__und_naturwissenschaften_mba__berufsbegleitender_weiterbildender_master_verbundstudiengang_1.php \"Mehr erfahren\")\\nIserlohnLüdenscheidMeschede|Wintersemester\\n##### Maschinenbau M.Eng. (berufsbegleitendes Verbundstudium)\\nVertiefen Sie mit diesem berufsbegleitenden Studiengang mit klarem Industriebezug Ihre natur- und ingenieurwissenschaftlichen Kenntnisse und Managementkompetenzen. Wählen Sie zwischen der fünfsemestrigen und sechssemestrigen Variante.\\n[Mehr erfahren ](https://www.fh-swf.de/de/studienangebot/studiengaenge/maschinenbau_m_eng___berufsbegleitendes_verbundstudium_/index.php \"Mehr erfahren\")\\nSoest|SommersemesterWintersemester\\n##### Medienpädagogik M.A. (berufsbegleitendes Verbundstudium)\\nQualifizieren Sie sich neben Beruf und/oder Familie in gesellschaftlich immer bedeutsameren medienpädagogischen Arbeitsfeldern rund um Medienkompetenz, -nutzung und -wirkung.\\n[Mehr erfahren ](https://www.fh-swf.de/de/studienangebot/studiengaenge/medienpaedagogik_m_a___berufsbegleitendes_verbundstudium_/index.php \"Mehr erfahren\")\\nLüdenscheid|SommersemesterWintersemester\\n##### Medizintechnik M.Eng.\\nSie möchten zum Wohle des Menschen tätig sein und Ihr Fachwissen in der Medizintechnik vertiefen? Dann ist dieser Masterstudiengang mit seinen Vertiefungsmodulen genau richtig für Sie.\\n[Mehr erfahren ](https://www.fh-swf.de/de/studienangebot/studiengaenge/medizintechnik_m_eng_/medizintechnik_m_eng_1.php \"Mehr erfahren\")\\nMeschede|SommersemesterWintersemester\\n##### Strategisches Management M.A.\\nWirtschaft weitergedacht: Dieser Studiengang vermittelt tiefgehendes Wissen in den Bereichen Unternehmensführung, Marketing und Management und bietet Anwendungs- und Forschungsorientierung in einem.\\n[Mehr erfahren ](https://www.fh-swf.de/de/studienangebot/studiengaenge/strategisches_management_m_a_/index.php \"Mehr erfahren\")\\nSoest|Wintersemester\\n##### Technik- und Unternehmensmanagement M.Eng. (berufsbegleitender weiterbildender Master-Verbundstudiengang)\\nSetzen Sie Ihren Fokus auf Technik, Prozesse und Unternehmen und bilden Sie sich berufsbegleitend zum*zur Unternehmensmanager*in in technisch orientierten Bereichen weiter.\\n[Mehr erfahren ](https://www.fh-swf.de/de/studienangebot/studiengaenge/technik__und_unternehmensmanagement_m_eng___berufsbegleitender_weiterbildender_master_verbundstudiengang_/index.php \"Mehr erfahren\")\\nHagen|SommersemesterWintersemester\\n##### Wirtschaftsingenieurwesen M.Sc.\\nVertiefen Sie Ihr Wissen in den Kompetenzfeldern Produktions- und Informationstechnik und Management und werden Sie als Wirtschaftsingenieur*in zum*zur gefragten Querschnittsdenker*in.\\n[Mehr erfahren ](https://www.fh-swf.de/de/studienangebot/studiengaenge/wirtschaftsingenieurwesen_m_sc_/wirtschaftsingenieurwesen_m_sc_1.php \"Mehr erfahren\")\\nMeschede|SommersemesterWintersemester\\n##### Wirtschaftspsychologie M.Sc. mit Schwerpunkt Coaching & Change\\nVertiefen Sie mit diesem Studiengang Ihr wirtschaftspsychologisches Wissen und bauen Sie Ihre Kompetenzen in Coaching, Change Management und Führungsmethoden aus, um auf individueller aber auch organisatorischer Ebene agieren zu können.\\n[Mehr erfahren ](https://www.fh-swf.de/de/studienangebot/studiengaenge/mes/wirtschaftspsychologie_m_sc_/index.php \"Mehr erfahren\")\\nHagen|Sommersemester\\n##### Wirtschaftsrecht LL.M. (berufsbegleitender weiterbildender Master-Verbundstudiengang)\\nErlangen Sie mit diesem weiterbildenden Masterstudiengang berufsbegleitend vertiefende Rechts- und Managementkenntnisse und steigen Sie beruflich auf.\\n[Mehr erfahren ](https://www.fh-swf.de/de/studienangebot/studiengaenge/wirtschaftsrecht_ll_m___berufsbegleitender_weiterbildender_master_verbundstudiengang_/wirtschaftsrecht_ll_m___berufsbegleitender_weiterbildender_master_verbundstudiengang_1.php \"Mehr erfahren\")\\nBitte wählen Sie Ihre Präferenz:\\nAlles akzeptieren  Nur notwendige Cookies  [Datenschutz](https://www.fh-swf.de/de/footer_3/datenschutz_5.php \"Datenschutz\")\\n'"
      ]
     },
     "execution_count": 109,
     "metadata": {},
     "output_type": "execute_result"
    }
   ],
   "source": [
    "content.markdown.raw_markdown"
   ]
  },
  {
   "cell_type": "markdown",
   "id": "3725aa92",
   "metadata": {},
   "source": [
    "## Other Loaders Test"
   ]
  },
  {
   "cell_type": "code",
   "execution_count": 110,
   "id": "e5b6daf4",
   "metadata": {},
   "outputs": [],
   "source": [
    "converter = DocumentConverter()\n",
    "doc = converter.convert(result['results'][0]['url'])"
   ]
  },
  {
   "cell_type": "code",
   "execution_count": 111,
   "id": "d0739c07",
   "metadata": {},
   "outputs": [
    {
     "name": "stdout",
     "output_type": "stream",
     "text": [
      "# Unsere Master-Studiengänge\n",
      "\n",
      "1. Studienangebot\n",
      "2. Studiengänge\n",
      "\n",
      "Das Script course-data kann nicht geladen werden. Der Browser unterstützt kein JavaScript.\n",
      "\n",
      "Das Script course-app.bundle.js kann nicht geladen werden. Der Browser unterstützt kein JavaScript.\n",
      "\n",
      "Soziale Netzwerke. Folgen Sie uns auf\n",
      "\n",
      "<!-- image -->\n",
      "<!-- image -->\n",
      "\n",
      "### Initiativen und Mitgliedschaften\n",
      "\n",
      "- Impressum\n",
      "- Datenschutz\n",
      "- Disclaimer\n",
      "- Barrierefreiheit\n",
      "- Leichte Sprache\n",
      "- Sitemap\n",
      "- Kontakt\n",
      "- Cookie Einstellungen\n",
      "- 4232130\n",
      "\n",
      "Bitte wählen Sie Ihre Präferenz:\n",
      "\n",
      "Alles akzeptieren\n",
      "\n",
      "Nur notwendige Cookies\n",
      "\n",
      "Datenschutz\n"
     ]
    }
   ],
   "source": [
    "print(doc.document.export_to_markdown())"
   ]
  },
  {
   "cell_type": "code",
   "execution_count": 112,
   "id": "fa0568c4",
   "metadata": {},
   "outputs": [],
   "source": [
    "loader = WebBaseLoader(result['results'][0]['url'])\n",
    "docs = loader.load()\n",
    "\n",
    "# print(docs[0].page_content)"
   ]
  }
 ],
 "metadata": {
  "kernelspec": {
   "display_name": ".venv",
   "language": "python",
   "name": "python3"
  },
  "language_info": {
   "codemirror_mode": {
    "name": "ipython",
    "version": 3
   },
   "file_extension": ".py",
   "mimetype": "text/x-python",
   "name": "python",
   "nbconvert_exporter": "python",
   "pygments_lexer": "ipython3",
   "version": "3.11.11"
  }
 },
 "nbformat": 4,
 "nbformat_minor": 5
}
