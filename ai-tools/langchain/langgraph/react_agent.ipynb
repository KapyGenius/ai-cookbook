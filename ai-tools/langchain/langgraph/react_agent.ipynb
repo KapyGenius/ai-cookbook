{
 "cells": [
  {
   "cell_type": "code",
   "execution_count": 8,
   "id": "98c0a7b1",
   "metadata": {},
   "outputs": [],
   "source": [
    "from langgraph.prebuilt import create_react_agent\n",
    "from langchain_openai import ChatOpenAI\n",
    "from langchain_core.messages import HumanMessage\n"
   ]
  },
  {
   "cell_type": "code",
   "execution_count": 3,
   "id": "b20cc8af",
   "metadata": {},
   "outputs": [],
   "source": [
    "llm = ChatOpenAI(model=\"gpt-4o-mini\", streaming=True)"
   ]
  },
  {
   "cell_type": "code",
   "execution_count": 4,
   "id": "8a95694a",
   "metadata": {},
   "outputs": [
    {
     "data": {
      "text/plain": [
       "{'messages': [HumanMessage(content='what is the weather in sf', additional_kwargs={}, response_metadata={}, id='ecd8958b-f0fe-4132-979c-178eeae82ad3'),\n",
       "  AIMessage(content='', additional_kwargs={'tool_calls': [{'index': 0, 'id': 'call_ECEDplLCzZZ1nLw3Gxr3rvTh', 'function': {'arguments': '{\"city\":\"San Francisco\"}', 'name': 'get_weather'}, 'type': 'function'}]}, response_metadata={'finish_reason': 'tool_calls', 'model_name': 'gpt-4o-mini-2024-07-18', 'system_fingerprint': 'fp_34a54ae93c', 'service_tier': 'default'}, id='run--b9b425ef-9b1a-4642-89f5-bad34de730a6-0', tool_calls=[{'name': 'get_weather', 'args': {'city': 'San Francisco'}, 'id': 'call_ECEDplLCzZZ1nLw3Gxr3rvTh', 'type': 'tool_call'}]),\n",
       "  ToolMessage(content=\"It's always sunny in San Francisco!\", name='get_weather', id='90a44e22-3611-4a6e-8509-40d34673cfa3', tool_call_id='call_ECEDplLCzZZ1nLw3Gxr3rvTh'),\n",
       "  AIMessage(content='The weather in San Francisco is always sunny!', additional_kwargs={}, response_metadata={'finish_reason': 'stop', 'model_name': 'gpt-4o-mini-2024-07-18', 'system_fingerprint': 'fp_34a54ae93c', 'service_tier': 'default'}, id='run--874caeba-7590-44f2-952c-e419e21f22d3-0')]}"
      ]
     },
     "execution_count": 4,
     "metadata": {},
     "output_type": "execute_result"
    }
   ],
   "source": [
    "def get_weather(city: str) -> str:\n",
    "    \"\"\"Get weather for a given city.\"\"\"\n",
    "    return f\"It's always sunny in {city}!\"\n",
    "\n",
    "def add_numbers(a: int, b: int) -> int:\n",
    "    \"\"\"Add two numbers.\"\"\"\n",
    "    return a + b\n",
    "\n",
    "def multiply_numbers(a: int, b: int) -> int:\n",
    "    \"\"\"Multiply two numbers.\"\"\"\n",
    "    return a * b\n",
    "\n",
    "agent = create_react_agent(\n",
    "    model=llm,\n",
    "    tools=[get_weather, add_numbers, multiply_numbers],\n",
    "    prompt=\"You are a helpful assistant that can use the following tools: get_weather, add_numbers for addition, multiply_numbers for multiplication\"\n",
    ")\n",
    "\n",
    "# Run the agent\n",
    "agent.invoke(\n",
    "    {\"messages\": [{\"role\": \"user\", \"content\": \"what is the weather in sf\"}]}\n",
    ")"
   ]
  },
  {
   "cell_type": "code",
   "execution_count": 9,
   "id": "21b8beaa",
   "metadata": {},
   "outputs": [
    {
     "data": {
      "text/plain": [
       "{'messages': [HumanMessage(content='what is 5 +  (5 * 2)', additional_kwargs={}, response_metadata={}, id='2a17d779-465e-4f5f-92f8-69b5b6ed18d1'),\n",
       "  AIMessage(content='', additional_kwargs={'tool_calls': [{'index': 0, 'id': 'call_JhcdROGft4GjF261HDrDiGhn', 'function': {'arguments': '{\"a\": 5, \"b\": 2}', 'name': 'multiply_numbers'}, 'type': 'function'}, {'index': 1, 'id': 'call_pS9bfUNDXH9AXRvgycfwuf5u', 'function': {'arguments': '{\"a\": 5, \"b\": 0}', 'name': 'add_numbers'}, 'type': 'function'}]}, response_metadata={'finish_reason': 'tool_calls', 'model_name': 'gpt-4o-mini-2024-07-18', 'system_fingerprint': 'fp_34a54ae93c', 'service_tier': 'default'}, id='run--d081ed27-93b3-4fbe-aaca-1e90e7d33382-0', tool_calls=[{'name': 'multiply_numbers', 'args': {'a': 5, 'b': 2}, 'id': 'call_JhcdROGft4GjF261HDrDiGhn', 'type': 'tool_call'}, {'name': 'add_numbers', 'args': {'a': 5, 'b': 0}, 'id': 'call_pS9bfUNDXH9AXRvgycfwuf5u', 'type': 'tool_call'}]),\n",
       "  ToolMessage(content='10', name='multiply_numbers', id='05c6b3dd-c8de-44a4-8e7f-5f825b8ee12d', tool_call_id='call_JhcdROGft4GjF261HDrDiGhn'),\n",
       "  ToolMessage(content='5', name='add_numbers', id='b73976d4-7df0-4c2d-aa8f-6c325856663f', tool_call_id='call_pS9bfUNDXH9AXRvgycfwuf5u'),\n",
       "  AIMessage(content='', additional_kwargs={'tool_calls': [{'index': 0, 'id': 'call_cZwInQmD0W07ygQ3cz2IgaLZ', 'function': {'arguments': '{\"a\":5,\"b\":10}', 'name': 'add_numbers'}, 'type': 'function'}]}, response_metadata={'finish_reason': 'tool_calls', 'model_name': 'gpt-4o-mini-2024-07-18', 'system_fingerprint': 'fp_34a54ae93c', 'service_tier': 'default'}, id='run--114c0e03-e6ac-4671-904f-8bcd200cda14-0', tool_calls=[{'name': 'add_numbers', 'args': {'a': 5, 'b': 10}, 'id': 'call_cZwInQmD0W07ygQ3cz2IgaLZ', 'type': 'tool_call'}]),\n",
       "  ToolMessage(content='15', name='add_numbers', id='4d906adf-39ad-4be5-bac5-64f2edf23aa8', tool_call_id='call_cZwInQmD0W07ygQ3cz2IgaLZ'),\n",
       "  AIMessage(content='The result of \\\\( 5 + (5 \\\\times 2) \\\\) is 15.', additional_kwargs={}, response_metadata={'finish_reason': 'stop', 'model_name': 'gpt-4o-mini-2024-07-18', 'system_fingerprint': 'fp_34a54ae93c', 'service_tier': 'default'}, id='run--b0ca25d6-6187-4890-a093-c94c42d1083a-0')]}"
      ]
     },
     "execution_count": 9,
     "metadata": {},
     "output_type": "execute_result"
    }
   ],
   "source": [
    "agent.invoke({\"messages\": [{\"role\": \"user\", \"content\": \"what is 5 +  (5 * 2)\"}]})"
   ]
  },
  {
   "cell_type": "code",
   "execution_count": 10,
   "id": "36e1784d",
   "metadata": {},
   "outputs": [
    {
     "data": {
      "image/png": "[encoded data removed]",
      "text/plain": [
       "<IPython.core.display.Image object>"
      ]
     },
     "metadata": {},
     "output_type": "display_data"
    }
   ],
   "source": [
    "from IPython.display import Image, display\n",
    "\n",
    "display(Image(agent.get_graph().draw_mermaid_png()))"
   ]
  },
  {
   "cell_type": "code",
   "execution_count": 9,
   "id": "fda1e119",
   "metadata": {},
   "outputs": [
    {
     "name": "stdout",
     "output_type": "stream",
     "text": [
      "New chunk {'agent': {'messages': [AIMessage(content='', additional_kwargs={'tool_calls': [{'index': 0, 'id': 'call_Dksfem803HvNvb7YM6MxUL7F', 'function': {'arguments': '{\"city\":\"San Francisco\"}', 'name': 'get_weather'}, 'type': 'function'}]}, response_metadata={'finish_reason': 'tool_calls', 'model_name': 'gpt-4o-mini-2024-07-18', 'system_fingerprint': 'fp_34a54ae93c', 'service_tier': 'default'}, id='run--cb6a383e-1449-4976-8cf6-820148dfae05-0', tool_calls=[{'name': 'get_weather', 'args': {'city': 'San Francisco'}, 'id': 'call_Dksfem803HvNvb7YM6MxUL7F', 'type': 'tool_call'}])]}}\n",
      "New chunk {'tools': {'messages': [ToolMessage(content=\"It's always sunny in San Francisco!\", name='get_weather', id='b1675488-bbe8-4189-96f6-850505741cc0', tool_call_id='call_Dksfem803HvNvb7YM6MxUL7F')]}}\n",
      "New chunk {'agent': {'messages': [AIMessage(content='The weather in San Francisco is always sunny!', additional_kwargs={}, response_metadata={'finish_reason': 'stop', 'model_name': 'gpt-4o-mini-2024-07-18', 'system_fingerprint': 'fp_34a54ae93c', 'service_tier': 'default'}, id='run--22163b61-eb2b-4d2b-bf34-c71c55cf72bb-0')]}}\n"
     ]
    }
   ],
   "source": [
    "async for chunk in agent.astream({\"messages\": [HumanMessage(\"what is the weather in sf\")]}):\n",
    "    print(\"New chunk\", chunk)"
   ]
  },
  {
   "cell_type": "code",
   "execution_count": 15,
   "id": "0c9a67ab",
   "metadata": {},
   "outputs": [
    {
     "name": "stdout",
     "output_type": "stream",
     "text": [
      "New chunk content='' additional_kwargs={'tool_calls': [{'index': 0, 'id': 'call_xnDzXEj47S8QylDhiT1ufqiQ', 'function': {'arguments': '', 'name': 'get_weather'}, 'type': 'function'}]} response_metadata={} id='run--82992c0b-0dee-4c0e-b069-ad2792222011' tool_calls=[{'name': 'get_weather', 'args': {}, 'id': 'call_xnDzXEj47S8QylDhiT1ufqiQ', 'type': 'tool_call'}] tool_call_chunks=[{'name': 'get_weather', 'args': '', 'id': 'call_xnDzXEj47S8QylDhiT1ufqiQ', 'index': 0, 'type': 'tool_call_chunk'}]\n",
      "New Metadata {'langgraph_step': 1, 'langgraph_node': 'agent', 'langgraph_triggers': ('branch:to:agent',), 'langgraph_path': ('__pregel_pull', 'agent'), 'langgraph_checkpoint_ns': 'agent:2aa0cca0-a5c0-c8d9-7f53-b85b86afc5d3', 'checkpoint_ns': 'agent:2aa0cca0-a5c0-c8d9-7f53-b85b86afc5d3', 'ls_provider': 'openai', 'ls_model_name': 'gpt-4o-mini', 'ls_model_type': 'chat', 'ls_temperature': None}\n",
      "New chunk content='' additional_kwargs={'tool_calls': [{'index': 0, 'id': None, 'function': {'arguments': '{\"', 'name': None}, 'type': None}]} response_metadata={} id='run--82992c0b-0dee-4c0e-b069-ad2792222011' tool_calls=[{'name': '', 'args': {}, 'id': None, 'type': 'tool_call'}] tool_call_chunks=[{'name': None, 'args': '{\"', 'id': None, 'index': 0, 'type': 'tool_call_chunk'}]\n",
      "New Metadata {'langgraph_step': 1, 'langgraph_node': 'agent', 'langgraph_triggers': ('branch:to:agent',), 'langgraph_path': ('__pregel_pull', 'agent'), 'langgraph_checkpoint_ns': 'agent:2aa0cca0-a5c0-c8d9-7f53-b85b86afc5d3', 'checkpoint_ns': 'agent:2aa0cca0-a5c0-c8d9-7f53-b85b86afc5d3', 'ls_provider': 'openai', 'ls_model_name': 'gpt-4o-mini', 'ls_model_type': 'chat', 'ls_temperature': None}\n",
      "New chunk content='' additional_kwargs={'tool_calls': [{'index': 0, 'id': None, 'function': {'arguments': 'city', 'name': None}, 'type': None}]} response_metadata={} id='run--82992c0b-0dee-4c0e-b069-ad2792222011' invalid_tool_calls=[{'name': None, 'args': 'city', 'id': None, 'error': None, 'type': 'invalid_tool_call'}] tool_call_chunks=[{'name': None, 'args': 'city', 'id': None, 'index': 0, 'type': 'tool_call_chunk'}]\n",
      "New Metadata {'langgraph_step': 1, 'langgraph_node': 'agent', 'langgraph_triggers': ('branch:to:agent',), 'langgraph_path': ('__pregel_pull', 'agent'), 'langgraph_checkpoint_ns': 'agent:2aa0cca0-a5c0-c8d9-7f53-b85b86afc5d3', 'checkpoint_ns': 'agent:2aa0cca0-a5c0-c8d9-7f53-b85b86afc5d3', 'ls_provider': 'openai', 'ls_model_name': 'gpt-4o-mini', 'ls_model_type': 'chat', 'ls_temperature': None}\n",
      "New chunk content='' additional_kwargs={'tool_calls': [{'index': 0, 'id': None, 'function': {'arguments': '\":\"', 'name': None}, 'type': None}]} response_metadata={} id='run--82992c0b-0dee-4c0e-b069-ad2792222011' invalid_tool_calls=[{'name': None, 'args': '\":\"', 'id': None, 'error': None, 'type': 'invalid_tool_call'}] tool_call_chunks=[{'name': None, 'args': '\":\"', 'id': None, 'index': 0, 'type': 'tool_call_chunk'}]\n",
      "New Metadata {'langgraph_step': 1, 'langgraph_node': 'agent', 'langgraph_triggers': ('branch:to:agent',), 'langgraph_path': ('__pregel_pull', 'agent'), 'langgraph_checkpoint_ns': 'agent:2aa0cca0-a5c0-c8d9-7f53-b85b86afc5d3', 'checkpoint_ns': 'agent:2aa0cca0-a5c0-c8d9-7f53-b85b86afc5d3', 'ls_provider': 'openai', 'ls_model_name': 'gpt-4o-mini', 'ls_model_type': 'chat', 'ls_temperature': None}\n",
      "New chunk content='' additional_kwargs={'tool_calls': [{'index': 0, 'id': None, 'function': {'arguments': 'San', 'name': None}, 'type': None}]} response_metadata={} id='run--82992c0b-0dee-4c0e-b069-ad2792222011' invalid_tool_calls=[{'name': None, 'args': 'San', 'id': None, 'error': None, 'type': 'invalid_tool_call'}] tool_call_chunks=[{'name': None, 'args': 'San', 'id': None, 'index': 0, 'type': 'tool_call_chunk'}]\n",
      "New Metadata {'langgraph_step': 1, 'langgraph_node': 'agent', 'langgraph_triggers': ('branch:to:agent',), 'langgraph_path': ('__pregel_pull', 'agent'), 'langgraph_checkpoint_ns': 'agent:2aa0cca0-a5c0-c8d9-7f53-b85b86afc5d3', 'checkpoint_ns': 'agent:2aa0cca0-a5c0-c8d9-7f53-b85b86afc5d3', 'ls_provider': 'openai', 'ls_model_name': 'gpt-4o-mini', 'ls_model_type': 'chat', 'ls_temperature': None}\n",
      "New chunk content='' additional_kwargs={'tool_calls': [{'index': 0, 'id': None, 'function': {'arguments': ' Francisco', 'name': None}, 'type': None}]} response_metadata={} id='run--82992c0b-0dee-4c0e-b069-ad2792222011' invalid_tool_calls=[{'name': None, 'args': ' Francisco', 'id': None, 'error': None, 'type': 'invalid_tool_call'}] tool_call_chunks=[{'name': None, 'args': ' Francisco', 'id': None, 'index': 0, 'type': 'tool_call_chunk'}]\n",
      "New Metadata {'langgraph_step': 1, 'langgraph_node': 'agent', 'langgraph_triggers': ('branch:to:agent',), 'langgraph_path': ('__pregel_pull', 'agent'), 'langgraph_checkpoint_ns': 'agent:2aa0cca0-a5c0-c8d9-7f53-b85b86afc5d3', 'checkpoint_ns': 'agent:2aa0cca0-a5c0-c8d9-7f53-b85b86afc5d3', 'ls_provider': 'openai', 'ls_model_name': 'gpt-4o-mini', 'ls_model_type': 'chat', 'ls_temperature': None}\n",
      "New chunk content='' additional_kwargs={'tool_calls': [{'index': 0, 'id': None, 'function': {'arguments': '\"}', 'name': None}, 'type': None}]} response_metadata={} id='run--82992c0b-0dee-4c0e-b069-ad2792222011' invalid_tool_calls=[{'name': None, 'args': '\"}', 'id': None, 'error': None, 'type': 'invalid_tool_call'}] tool_call_chunks=[{'name': None, 'args': '\"}', 'id': None, 'index': 0, 'type': 'tool_call_chunk'}]\n",
      "New Metadata {'langgraph_step': 1, 'langgraph_node': 'agent', 'langgraph_triggers': ('branch:to:agent',), 'langgraph_path': ('__pregel_pull', 'agent'), 'langgraph_checkpoint_ns': 'agent:2aa0cca0-a5c0-c8d9-7f53-b85b86afc5d3', 'checkpoint_ns': 'agent:2aa0cca0-a5c0-c8d9-7f53-b85b86afc5d3', 'ls_provider': 'openai', 'ls_model_name': 'gpt-4o-mini', 'ls_model_type': 'chat', 'ls_temperature': None}\n",
      "New chunk content='' additional_kwargs={} response_metadata={'finish_reason': 'tool_calls', 'model_name': 'gpt-4o-mini-2024-07-18', 'system_fingerprint': 'fp_34a54ae93c', 'service_tier': 'default'} id='run--82992c0b-0dee-4c0e-b069-ad2792222011'\n",
      "New Metadata {'langgraph_step': 1, 'langgraph_node': 'agent', 'langgraph_triggers': ('branch:to:agent',), 'langgraph_path': ('__pregel_pull', 'agent'), 'langgraph_checkpoint_ns': 'agent:2aa0cca0-a5c0-c8d9-7f53-b85b86afc5d3', 'checkpoint_ns': 'agent:2aa0cca0-a5c0-c8d9-7f53-b85b86afc5d3', 'ls_provider': 'openai', 'ls_model_name': 'gpt-4o-mini', 'ls_model_type': 'chat', 'ls_temperature': None}\n",
      "New chunk content=\"It's always sunny in San Francisco!\" name='get_weather' id='c90b17ad-91a4-4a06-ae42-acbc52e8a125' tool_call_id='call_xnDzXEj47S8QylDhiT1ufqiQ'\n",
      "New Metadata {'langgraph_step': 2, 'langgraph_node': 'tools', 'langgraph_triggers': ('__pregel_push',), 'langgraph_path': ('__pregel_push', 0, False), 'langgraph_checkpoint_ns': 'tools:2f8eb26c-9ce0-ac13-66c1-9dcd54ca6b05', 'LANGSMITH_PROJECT': 'learning-flow', 'LANGSMITH_TRACING': 'true', 'LANGSMITH_ENDPOINT': 'https://api.smith.langchain.com', 'revision_id': '98f3404-dirty'}\n",
      "New chunk content='' additional_kwargs={} response_metadata={} id='run--94af27ad-2788-4c71-9cd7-c69fa1eec121'\n",
      "New Metadata {'langgraph_step': 3, 'langgraph_node': 'agent', 'langgraph_triggers': ('branch:to:agent',), 'langgraph_path': ('__pregel_pull', 'agent'), 'langgraph_checkpoint_ns': 'agent:04a6465e-5408-da40-3312-a5002e259c30', 'checkpoint_ns': 'agent:04a6465e-5408-da40-3312-a5002e259c30', 'ls_provider': 'openai', 'ls_model_name': 'gpt-4o-mini', 'ls_model_type': 'chat', 'ls_temperature': None}\n",
      "New chunk content='The' additional_kwargs={} response_metadata={} id='run--94af27ad-2788-4c71-9cd7-c69fa1eec121'\n",
      "New Metadata {'langgraph_step': 3, 'langgraph_node': 'agent', 'langgraph_triggers': ('branch:to:agent',), 'langgraph_path': ('__pregel_pull', 'agent'), 'langgraph_checkpoint_ns': 'agent:04a6465e-5408-da40-3312-a5002e259c30', 'checkpoint_ns': 'agent:04a6465e-5408-da40-3312-a5002e259c30', 'ls_provider': 'openai', 'ls_model_name': 'gpt-4o-mini', 'ls_model_type': 'chat', 'ls_temperature': None}\n",
      "New chunk content=' weather' additional_kwargs={} response_metadata={} id='run--94af27ad-2788-4c71-9cd7-c69fa1eec121'\n",
      "New Metadata {'langgraph_step': 3, 'langgraph_node': 'agent', 'langgraph_triggers': ('branch:to:agent',), 'langgraph_path': ('__pregel_pull', 'agent'), 'langgraph_checkpoint_ns': 'agent:04a6465e-5408-da40-3312-a5002e259c30', 'checkpoint_ns': 'agent:04a6465e-5408-da40-3312-a5002e259c30', 'ls_provider': 'openai', 'ls_model_name': 'gpt-4o-mini', 'ls_model_type': 'chat', 'ls_temperature': None}\n",
      "New chunk content=' in' additional_kwargs={} response_metadata={} id='run--94af27ad-2788-4c71-9cd7-c69fa1eec121'\n",
      "New Metadata {'langgraph_step': 3, 'langgraph_node': 'agent', 'langgraph_triggers': ('branch:to:agent',), 'langgraph_path': ('__pregel_pull', 'agent'), 'langgraph_checkpoint_ns': 'agent:04a6465e-5408-da40-3312-a5002e259c30', 'checkpoint_ns': 'agent:04a6465e-5408-da40-3312-a5002e259c30', 'ls_provider': 'openai', 'ls_model_name': 'gpt-4o-mini', 'ls_model_type': 'chat', 'ls_temperature': None}\n",
      "New chunk content=' San' additional_kwargs={} response_metadata={} id='run--94af27ad-2788-4c71-9cd7-c69fa1eec121'\n",
      "New Metadata {'langgraph_step': 3, 'langgraph_node': 'agent', 'langgraph_triggers': ('branch:to:agent',), 'langgraph_path': ('__pregel_pull', 'agent'), 'langgraph_checkpoint_ns': 'agent:04a6465e-5408-da40-3312-a5002e259c30', 'checkpoint_ns': 'agent:04a6465e-5408-da40-3312-a5002e259c30', 'ls_provider': 'openai', 'ls_model_name': 'gpt-4o-mini', 'ls_model_type': 'chat', 'ls_temperature': None}\n",
      "New chunk content=' Francisco' additional_kwargs={} response_metadata={} id='run--94af27ad-2788-4c71-9cd7-c69fa1eec121'\n",
      "New Metadata {'langgraph_step': 3, 'langgraph_node': 'agent', 'langgraph_triggers': ('branch:to:agent',), 'langgraph_path': ('__pregel_pull', 'agent'), 'langgraph_checkpoint_ns': 'agent:04a6465e-5408-da40-3312-a5002e259c30', 'checkpoint_ns': 'agent:04a6465e-5408-da40-3312-a5002e259c30', 'ls_provider': 'openai', 'ls_model_name': 'gpt-4o-mini', 'ls_model_type': 'chat', 'ls_temperature': None}\n",
      "New chunk content=' is' additional_kwargs={} response_metadata={} id='run--94af27ad-2788-4c71-9cd7-c69fa1eec121'\n",
      "New Metadata {'langgraph_step': 3, 'langgraph_node': 'agent', 'langgraph_triggers': ('branch:to:agent',), 'langgraph_path': ('__pregel_pull', 'agent'), 'langgraph_checkpoint_ns': 'agent:04a6465e-5408-da40-3312-a5002e259c30', 'checkpoint_ns': 'agent:04a6465e-5408-da40-3312-a5002e259c30', 'ls_provider': 'openai', 'ls_model_name': 'gpt-4o-mini', 'ls_model_type': 'chat', 'ls_temperature': None}\n",
      "New chunk content=' always' additional_kwargs={} response_metadata={} id='run--94af27ad-2788-4c71-9cd7-c69fa1eec121'\n",
      "New Metadata {'langgraph_step': 3, 'langgraph_node': 'agent', 'langgraph_triggers': ('branch:to:agent',), 'langgraph_path': ('__pregel_pull', 'agent'), 'langgraph_checkpoint_ns': 'agent:04a6465e-5408-da40-3312-a5002e259c30', 'checkpoint_ns': 'agent:04a6465e-5408-da40-3312-a5002e259c30', 'ls_provider': 'openai', 'ls_model_name': 'gpt-4o-mini', 'ls_model_type': 'chat', 'ls_temperature': None}\n",
      "New chunk content=' sunny' additional_kwargs={} response_metadata={} id='run--94af27ad-2788-4c71-9cd7-c69fa1eec121'\n",
      "New Metadata {'langgraph_step': 3, 'langgraph_node': 'agent', 'langgraph_triggers': ('branch:to:agent',), 'langgraph_path': ('__pregel_pull', 'agent'), 'langgraph_checkpoint_ns': 'agent:04a6465e-5408-da40-3312-a5002e259c30', 'checkpoint_ns': 'agent:04a6465e-5408-da40-3312-a5002e259c30', 'ls_provider': 'openai', 'ls_model_name': 'gpt-4o-mini', 'ls_model_type': 'chat', 'ls_temperature': None}\n",
      "New chunk content='!' additional_kwargs={} response_metadata={} id='run--94af27ad-2788-4c71-9cd7-c69fa1eec121'\n",
      "New Metadata {'langgraph_step': 3, 'langgraph_node': 'agent', 'langgraph_triggers': ('branch:to:agent',), 'langgraph_path': ('__pregel_pull', 'agent'), 'langgraph_checkpoint_ns': 'agent:04a6465e-5408-da40-3312-a5002e259c30', 'checkpoint_ns': 'agent:04a6465e-5408-da40-3312-a5002e259c30', 'ls_provider': 'openai', 'ls_model_name': 'gpt-4o-mini', 'ls_model_type': 'chat', 'ls_temperature': None}\n",
      "New chunk content='' additional_kwargs={} response_metadata={'finish_reason': 'stop', 'model_name': 'gpt-4o-mini-2024-07-18', 'system_fingerprint': 'fp_34a54ae93c', 'service_tier': 'default'} id='run--94af27ad-2788-4c71-9cd7-c69fa1eec121'\n",
      "New Metadata {'langgraph_step': 3, 'langgraph_node': 'agent', 'langgraph_triggers': ('branch:to:agent',), 'langgraph_path': ('__pregel_pull', 'agent'), 'langgraph_checkpoint_ns': 'agent:04a6465e-5408-da40-3312-a5002e259c30', 'checkpoint_ns': 'agent:04a6465e-5408-da40-3312-a5002e259c30', 'ls_provider': 'openai', 'ls_model_name': 'gpt-4o-mini', 'ls_model_type': 'chat', 'ls_temperature': None}\n"
     ]
    }
   ],
   "source": [
    "async for chunk in agent.astream({\"messages\": [HumanMessage(\"what is the weather in sf\")]}, stream_mode=\"messages\"):\n",
    "    print(\"New chunk\", chunk[0])\n",
    "    print(\"New Metadata\", chunk[1])"
   ]
  }
 ],
 "metadata": {
  "kernelspec": {
   "display_name": ".venv",
   "language": "python",
   "name": "python3"
  },
  "language_info": {
   "codemirror_mode": {
    "name": "ipython",
    "version": 3
   },
   "file_extension": ".py",
   "mimetype": "text/x-python",
   "name": "python",
   "nbconvert_exporter": "python",
   "pygments_lexer": "ipython3",
   "version": "3.11.11"
  }
 },
 "nbformat": 4,
 "nbformat_minor": 5
}
